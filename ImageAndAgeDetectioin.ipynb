{
 "cells": [
  {
   "cell_type": "code",
   "execution_count": 1,
   "id": "d82f7be9",
   "metadata": {},
   "outputs": [],
   "source": [
    "import numpy as np\n",
    "import pandas as pd\n",
    "import matplotlib.pyplot as plt\n",
    "import seaborn as sns\n",
    "import cv2\n",
    "from PIL import Image\n",
    "\n",
    "import tensorflow as tf\n",
    "from tensorflow.keras.models import Sequential\n",
    "from tensorflow.keras.layers import Conv2D, MaxPooling2D, Activation, Dropout, Flatten, Dense, Dropout, LayerNormalization\n",
    "from tensorflow.keras.preprocessing.image import ImageDataGenerator, img_to_array, load_img"
   ]
  },
  {
   "cell_type": "code",
   "execution_count": 2,
   "id": "6bd38c5d",
   "metadata": {},
   "outputs": [],
   "source": [
    "#load data\n",
    "data = pd.read_csv(\"fold_3_data.txt\",sep = \"\\t\" )\n",
    "data1 = pd.read_csv(\"fold_1_data.txt\",sep = \"\\t\")\n",
    "data2 = pd.read_csv(\"fold_2_data.txt\",sep = \"\\t\")\n",
    "data3 = pd.read_csv(\"fold_0_data.txt\",sep = \"\\t\")\n",
    "data4 = pd.read_csv(\"fold_4_data.txt\",sep = \"\\t\")\n"
   ]
  },
  {
   "cell_type": "code",
   "execution_count": 3,
   "id": "50888e4d",
   "metadata": {},
   "outputs": [
    {
     "name": "stdout",
     "output_type": "stream",
     "text": [
      "(3446, 12)\n",
      "(3730, 12)\n",
      "(3894, 12)\n",
      "(4484, 12)\n",
      "(3816, 12)\n",
      "(19370, 12)\n"
     ]
    }
   ],
   "source": [
    "#gathring the data\n",
    "total_data = pd.concat([data, data1, data2, data3, data4], ignore_index=True)\n",
    "print(data.shape)\n",
    "print(data1.shape)\n",
    "print(data2.shape)\n",
    "print(data3.shape)\n",
    "print(data4.shape)\n",
    "print(total_data.shape)"
   ]
  },
  {
   "cell_type": "code",
   "execution_count": 4,
   "id": "5fdc9bf7",
   "metadata": {},
   "outputs": [
    {
     "data": {
      "text/html": [
       "<div>\n",
       "<style scoped>\n",
       "    .dataframe tbody tr th:only-of-type {\n",
       "        vertical-align: middle;\n",
       "    }\n",
       "\n",
       "    .dataframe tbody tr th {\n",
       "        vertical-align: top;\n",
       "    }\n",
       "\n",
       "    .dataframe thead th {\n",
       "        text-align: right;\n",
       "    }\n",
       "</style>\n",
       "<table border=\"1\" class=\"dataframe\">\n",
       "  <thead>\n",
       "    <tr style=\"text-align: right;\">\n",
       "      <th></th>\n",
       "      <th>user_id</th>\n",
       "      <th>original_image</th>\n",
       "      <th>face_id</th>\n",
       "      <th>age</th>\n",
       "      <th>gender</th>\n",
       "      <th>x</th>\n",
       "      <th>y</th>\n",
       "      <th>dx</th>\n",
       "      <th>dy</th>\n",
       "      <th>tilt_ang</th>\n",
       "      <th>fiducial_yaw_angle</th>\n",
       "      <th>fiducial_score</th>\n",
       "    </tr>\n",
       "  </thead>\n",
       "  <tbody>\n",
       "    <tr>\n",
       "      <th>0</th>\n",
       "      <td>113445054@N07</td>\n",
       "      <td>11763777465_11d01c34ce_o.jpg</td>\n",
       "      <td>1322</td>\n",
       "      <td>(25, 32)</td>\n",
       "      <td>m</td>\n",
       "      <td>1102</td>\n",
       "      <td>296</td>\n",
       "      <td>357</td>\n",
       "      <td>357</td>\n",
       "      <td>-15</td>\n",
       "      <td>0</td>\n",
       "      <td>59</td>\n",
       "    </tr>\n",
       "    <tr>\n",
       "      <th>1</th>\n",
       "      <td>113445054@N07</td>\n",
       "      <td>11763777465_11d01c34ce_o.jpg</td>\n",
       "      <td>1323</td>\n",
       "      <td>(25, 32)</td>\n",
       "      <td>f</td>\n",
       "      <td>1713</td>\n",
       "      <td>580</td>\n",
       "      <td>325</td>\n",
       "      <td>325</td>\n",
       "      <td>-5</td>\n",
       "      <td>0</td>\n",
       "      <td>118</td>\n",
       "    </tr>\n",
       "    <tr>\n",
       "      <th>2</th>\n",
       "      <td>113445054@N07</td>\n",
       "      <td>11763777465_11d01c34ce_o.jpg</td>\n",
       "      <td>1324</td>\n",
       "      <td>(15, 20)</td>\n",
       "      <td>f</td>\n",
       "      <td>1437</td>\n",
       "      <td>664</td>\n",
       "      <td>306</td>\n",
       "      <td>306</td>\n",
       "      <td>5</td>\n",
       "      <td>0</td>\n",
       "      <td>109</td>\n",
       "    </tr>\n",
       "    <tr>\n",
       "      <th>3</th>\n",
       "      <td>113445054@N07</td>\n",
       "      <td>11764005785_f21921aea6_o.jpg</td>\n",
       "      <td>1325</td>\n",
       "      <td>(25, 32)</td>\n",
       "      <td>f</td>\n",
       "      <td>978</td>\n",
       "      <td>229</td>\n",
       "      <td>803</td>\n",
       "      <td>803</td>\n",
       "      <td>-20</td>\n",
       "      <td>-45</td>\n",
       "      <td>16</td>\n",
       "    </tr>\n",
       "    <tr>\n",
       "      <th>4</th>\n",
       "      <td>113445054@N07</td>\n",
       "      <td>11763728674_a41d99f71e_o.jpg</td>\n",
       "      <td>1326</td>\n",
       "      <td>(25, 32)</td>\n",
       "      <td>m</td>\n",
       "      <td>1745</td>\n",
       "      <td>910</td>\n",
       "      <td>242</td>\n",
       "      <td>242</td>\n",
       "      <td>-10</td>\n",
       "      <td>0</td>\n",
       "      <td>55</td>\n",
       "    </tr>\n",
       "  </tbody>\n",
       "</table>\n",
       "</div>"
      ],
      "text/plain": [
       "         user_id                original_image  face_id       age gender  \\\n",
       "0  113445054@N07  11763777465_11d01c34ce_o.jpg     1322  (25, 32)      m   \n",
       "1  113445054@N07  11763777465_11d01c34ce_o.jpg     1323  (25, 32)      f   \n",
       "2  113445054@N07  11763777465_11d01c34ce_o.jpg     1324  (15, 20)      f   \n",
       "3  113445054@N07  11764005785_f21921aea6_o.jpg     1325  (25, 32)      f   \n",
       "4  113445054@N07  11763728674_a41d99f71e_o.jpg     1326  (25, 32)      m   \n",
       "\n",
       "      x    y   dx   dy  tilt_ang  fiducial_yaw_angle  fiducial_score  \n",
       "0  1102  296  357  357       -15                   0              59  \n",
       "1  1713  580  325  325        -5                   0             118  \n",
       "2  1437  664  306  306         5                   0             109  \n",
       "3   978  229  803  803       -20                 -45              16  \n",
       "4  1745  910  242  242       -10                   0              55  "
      ]
     },
     "execution_count": 4,
     "metadata": {},
     "output_type": "execute_result"
    }
   ],
   "source": [
    "#present data\n",
    "total_data.head()"
   ]
  },
  {
   "cell_type": "code",
   "execution_count": 5,
   "id": "a6200e53",
   "metadata": {},
   "outputs": [
    {
     "data": {
      "image/png": "[encoded data removed]",
      "text/plain": [
       "<Figure size 1080x360 with 1 Axes>"
      ]
     },
     "metadata": {
      "needs_background": "light"
     },
     "output_type": "display_data"
    },
    {
     "data": {
      "text/plain": [
       "(25, 32)     5004\n",
       "(0, 2)       2488\n",
       "(38, 43)     2293\n",
       "(4, 6)       2140\n",
       "(8, 12)      2124\n",
       "(15, 20)     1642\n",
       "(60, 100)     872\n",
       "(48, 53)      830\n",
       "None          748\n",
       "35            293\n",
       "13            168\n",
       "22            149\n",
       "34            105\n",
       "23             96\n",
       "45             88\n",
       "(27, 32)       77\n",
       "55             76\n",
       "36             56\n",
       "(38, 42)       46\n",
       "57             24\n",
       "3              18\n",
       "29             11\n",
       "(38, 48)        6\n",
       "58              5\n",
       "32              3\n",
       "2               3\n",
       "56              2\n",
       "(8, 23)         1\n",
       "42              1\n",
       "46              1\n",
       "Name: age, dtype: int64"
      ]
     },
     "execution_count": 5,
     "metadata": {},
     "output_type": "execute_result"
    }
   ],
   "source": [
    "#bar chart to present age\n",
    "\n",
    "age = ['(25, 32)' , '(0, 2)', '(38, 43)' ,'(4, 6) ','(8, 12)','(15, 20)','(60, 100)','(48, 53)' ,'None','35','13','22','34','23' ,'45','(27, 32)','55','36','(38, 42)','57','3','29','(38, 48)','58','2','32','56','(8, 23)','46','42']\n",
    "\n",
    "plt.figure(figsize=(15, 5))  # width:20, height:3\n",
    "plt.bar(age, total_data.age.value_counts(), align='center', alpha=0.8)\n",
    "plt.ylabel('count')\n",
    "plt.show()\n",
    "#to Create horizontal bar plot here \"plt.barh(labels, values)\"\n",
    "\n",
    "total_data.age.value_counts()"
   ]
  },
  {
   "cell_type": "code",
   "execution_count": 6,
   "id": "cd4b2eaf",
   "metadata": {},
   "outputs": [
    {
     "data": {
      "image/png": "[encoded data removed]",
      "text/plain": [
       "<Figure size 432x288 with 1 Axes>"
      ]
     },
     "metadata": {
      "needs_background": "light"
     },
     "output_type": "display_data"
    }
   ],
   "source": [
    "#present image from the dataset\n",
    "path = \"faces/\"+total_data.user_id.loc[8]+\"/coarse_tilt_aligned_face.\"+str(total_data.face_id.loc[8])+\".\"+total_data.original_image.loc[8]\n",
    "img = load_img(path)\n",
    "plt.imshow(img)\n",
    "plt.show()"
   ]
  },
  {
   "cell_type": "code",
   "execution_count": 7,
   "id": "c42f0f55",
   "metadata": {},
   "outputs": [],
   "source": [
    "df = total_data[['age', 'gender', 'x', 'y', 'dx', 'dy']].copy()"
   ]
  },
  {
   "cell_type": "code",
   "execution_count": 8,
   "id": "142c22f3",
   "metadata": {},
   "outputs": [],
   "source": [
    "img_path = []\n",
    "for row in total_data.iterrows():\n",
    "    path = \"faces/\"+row[1].user_id+\"/coarse_tilt_aligned_face.\"+str(row[1].face_id)+\".\"+row[1].original_image\n",
    "    img_path.append(path)\n",
    "\n",
    "df['img_path'] = img_path"
   ]
  },
  {
   "cell_type": "code",
   "execution_count": 9,
   "id": "d99eb4f5",
   "metadata": {},
   "outputs": [
    {
     "data": {
      "text/html": [
       "<div>\n",
       "<style scoped>\n",
       "    .dataframe tbody tr th:only-of-type {\n",
       "        vertical-align: middle;\n",
       "    }\n",
       "\n",
       "    .dataframe tbody tr th {\n",
       "        vertical-align: top;\n",
       "    }\n",
       "\n",
       "    .dataframe thead th {\n",
       "        text-align: right;\n",
       "    }\n",
       "</style>\n",
       "<table border=\"1\" class=\"dataframe\">\n",
       "  <thead>\n",
       "    <tr style=\"text-align: right;\">\n",
       "      <th></th>\n",
       "      <th>age</th>\n",
       "      <th>gender</th>\n",
       "      <th>x</th>\n",
       "      <th>y</th>\n",
       "      <th>dx</th>\n",
       "      <th>dy</th>\n",
       "      <th>img_path</th>\n",
       "    </tr>\n",
       "  </thead>\n",
       "  <tbody>\n",
       "    <tr>\n",
       "      <th>0</th>\n",
       "      <td>(25, 32)</td>\n",
       "      <td>m</td>\n",
       "      <td>1102</td>\n",
       "      <td>296</td>\n",
       "      <td>357</td>\n",
       "      <td>357</td>\n",
       "      <td>faces/113445054@N07/coarse_tilt_aligned_face.1...</td>\n",
       "    </tr>\n",
       "    <tr>\n",
       "      <th>1</th>\n",
       "      <td>(25, 32)</td>\n",
       "      <td>f</td>\n",
       "      <td>1713</td>\n",
       "      <td>580</td>\n",
       "      <td>325</td>\n",
       "      <td>325</td>\n",
       "      <td>faces/113445054@N07/coarse_tilt_aligned_face.1...</td>\n",
       "    </tr>\n",
       "    <tr>\n",
       "      <th>2</th>\n",
       "      <td>(15, 20)</td>\n",
       "      <td>f</td>\n",
       "      <td>1437</td>\n",
       "      <td>664</td>\n",
       "      <td>306</td>\n",
       "      <td>306</td>\n",
       "      <td>faces/113445054@N07/coarse_tilt_aligned_face.1...</td>\n",
       "    </tr>\n",
       "    <tr>\n",
       "      <th>3</th>\n",
       "      <td>(25, 32)</td>\n",
       "      <td>f</td>\n",
       "      <td>978</td>\n",
       "      <td>229</td>\n",
       "      <td>803</td>\n",
       "      <td>803</td>\n",
       "      <td>faces/113445054@N07/coarse_tilt_aligned_face.1...</td>\n",
       "    </tr>\n",
       "    <tr>\n",
       "      <th>4</th>\n",
       "      <td>(25, 32)</td>\n",
       "      <td>m</td>\n",
       "      <td>1745</td>\n",
       "      <td>910</td>\n",
       "      <td>242</td>\n",
       "      <td>242</td>\n",
       "      <td>faces/113445054@N07/coarse_tilt_aligned_face.1...</td>\n",
       "    </tr>\n",
       "  </tbody>\n",
       "</table>\n",
       "</div>"
      ],
      "text/plain": [
       "        age gender     x    y   dx   dy  \\\n",
       "0  (25, 32)      m  1102  296  357  357   \n",
       "1  (25, 32)      f  1713  580  325  325   \n",
       "2  (15, 20)      f  1437  664  306  306   \n",
       "3  (25, 32)      f   978  229  803  803   \n",
       "4  (25, 32)      m  1745  910  242  242   \n",
       "\n",
       "                                            img_path  \n",
       "0  faces/113445054@N07/coarse_tilt_aligned_face.1...  \n",
       "1  faces/113445054@N07/coarse_tilt_aligned_face.1...  \n",
       "2  faces/113445054@N07/coarse_tilt_aligned_face.1...  \n",
       "3  faces/113445054@N07/coarse_tilt_aligned_face.1...  \n",
       "4  faces/113445054@N07/coarse_tilt_aligned_face.1...  "
      ]
     },
     "execution_count": 9,
     "metadata": {},
     "output_type": "execute_result"
    }
   ],
   "source": [
    "#present data befor\n",
    "df.head()"
   ]
  },
  {
   "cell_type": "code",
   "execution_count": 10,
   "id": "359e0746",
   "metadata": {},
   "outputs": [
    {
     "data": {
      "text/html": [
       "<div>\n",
       "<style scoped>\n",
       "    .dataframe tbody tr th:only-of-type {\n",
       "        vertical-align: middle;\n",
       "    }\n",
       "\n",
       "    .dataframe tbody tr th {\n",
       "        vertical-align: top;\n",
       "    }\n",
       "\n",
       "    .dataframe thead th {\n",
       "        text-align: right;\n",
       "    }\n",
       "</style>\n",
       "<table border=\"1\" class=\"dataframe\">\n",
       "  <thead>\n",
       "    <tr style=\"text-align: right;\">\n",
       "      <th></th>\n",
       "      <th>x</th>\n",
       "      <th>y</th>\n",
       "      <th>dx</th>\n",
       "      <th>dy</th>\n",
       "    </tr>\n",
       "  </thead>\n",
       "  <tbody>\n",
       "    <tr>\n",
       "      <th>x</th>\n",
       "      <td>1.000000</td>\n",
       "      <td>0.343700</td>\n",
       "      <td>-0.279544</td>\n",
       "      <td>-0.280495</td>\n",
       "    </tr>\n",
       "    <tr>\n",
       "      <th>y</th>\n",
       "      <td>0.343700</td>\n",
       "      <td>1.000000</td>\n",
       "      <td>-0.296527</td>\n",
       "      <td>-0.293110</td>\n",
       "    </tr>\n",
       "    <tr>\n",
       "      <th>dx</th>\n",
       "      <td>-0.279544</td>\n",
       "      <td>-0.296527</td>\n",
       "      <td>1.000000</td>\n",
       "      <td>0.991960</td>\n",
       "    </tr>\n",
       "    <tr>\n",
       "      <th>dy</th>\n",
       "      <td>-0.280495</td>\n",
       "      <td>-0.293110</td>\n",
       "      <td>0.991960</td>\n",
       "      <td>1.000000</td>\n",
       "    </tr>\n",
       "  </tbody>\n",
       "</table>\n",
       "</div>"
      ],
      "text/plain": [
       "           x         y        dx        dy\n",
       "x   1.000000  0.343700 -0.279544 -0.280495\n",
       "y   0.343700  1.000000 -0.296527 -0.293110\n",
       "dx -0.279544 -0.296527  1.000000  0.991960\n",
       "dy -0.280495 -0.293110  0.991960  1.000000"
      ]
     },
     "execution_count": 10,
     "metadata": {},
     "output_type": "execute_result"
    }
   ],
   "source": [
    "#correlation\n",
    "corr = df.corr()\n",
    "corr"
   ]
  },
  {
   "cell_type": "code",
   "execution_count": 11,
   "id": "7fbb1498",
   "metadata": {},
   "outputs": [
    {
     "name": "stderr",
     "output_type": "stream",
     "text": [
      "c:\\users\\ravi\\appdata\\local\\programs\\python\\python37\\lib\\site-packages\\pandas\\core\\indexing.py:1637: SettingWithCopyWarning: \n",
      "A value is trying to be set on a copy of a slice from a DataFrame\n",
      "\n",
      "See the caveats in the documentation: https://pandas.pydata.org/pandas-docs/stable/user_guide/indexing.html#returning-a-view-versus-a-copy\n",
      "  self._setitem_single_block(indexer, value, name)\n"
     ]
    }
   ],
   "source": [
    "#mapping ages\n",
    "age_mapping = [('(0, 2)', '0-2'), ('2', '0-2'), ('3', '0-2'), ('(4, 6)', '4-6'), ('(8, 12)', '8-13'), ('13', '8-13'), ('22', '15-20'), ('(8, 23)','15-20'), ('23', '25-32'), ('(15, 20)', '15-20'), ('(25, 32)', '25-32'), ('(27, 32)', '25-32'), ('32', '25-32'), ('34', '25-32'), ('29', '25-32'), ('(38, 42)', '38-43'), ('35', '38-43'), ('36', '38-43'), ('42', '48-53'), ('45', '38-43'), ('(38, 43)', '38-43'), ('(38, 42)', '38-43'), ('(38, 48)', '48-53'), ('46', '48-53'), ('(48, 53)', '48-53'), ('55', '48-53'), ('56', '48-53'), ('(60, 100)', '60+'), ('57', '60+'), ('58', '60+')]\n",
    "\n",
    "age_mapping_dict = {each[0]: each[1] for each in age_mapping}\n",
    "drop_labels = []\n",
    "for idx, each in enumerate(df.age):\n",
    "    if each == 'None':\n",
    "        drop_labels.append(idx)\n",
    "    else:\n",
    "        df.age.loc[idx] = age_mapping_dict[each]\n",
    "\n",
    "        \n",
    "#drop none values in age        \n",
    "df = df.drop(labels=drop_labels, axis=0) #droped None values\n",
    "#df.age.value_counts(dropna=False)\n",
    "\n",
    "\n",
    "#drop none gender values(u)  \n",
    "df = df.dropna()\n",
    "unbiased_data = df[df.gender != 'u'].copy()\n",
    "#unbiased_data.info()"
   ]
  },
  {
   "cell_type": "code",
   "execution_count": 12,
   "id": "bb68d98f",
   "metadata": {},
   "outputs": [],
   "source": [
    "#labeling gender\n",
    "gender_to_label_map = {\n",
    "    'f' : 0,\n",
    "    'm' : 1\n",
    "}\n",
    "\n",
    "#labeling age\n",
    "age_to_label_map = {\n",
    "    '0-2'  :0,\n",
    "    '4-6'  :1,\n",
    "    '8-13' :2,\n",
    "    '15-20':3,\n",
    "    '25-32':4,\n",
    "    '38-43':5,\n",
    "    '48-53':6,\n",
    "    '60+'  :7\n",
    "}\n",
    "\n",
    "label_to_age_map = {value: key for key, value in age_to_label_map.items()}\n",
    "label_to_gender_map = {value: key for key, value in gender_to_label_map.items()}"
   ]
  },
  {
   "cell_type": "code",
   "execution_count": 13,
   "id": "be865e03",
   "metadata": {},
   "outputs": [
    {
     "data": {
      "text/html": [
       "<div>\n",
       "<style scoped>\n",
       "    .dataframe tbody tr th:only-of-type {\n",
       "        vertical-align: middle;\n",
       "    }\n",
       "\n",
       "    .dataframe tbody tr th {\n",
       "        vertical-align: top;\n",
       "    }\n",
       "\n",
       "    .dataframe thead th {\n",
       "        text-align: right;\n",
       "    }\n",
       "</style>\n",
       "<table border=\"1\" class=\"dataframe\">\n",
       "  <thead>\n",
       "    <tr style=\"text-align: right;\">\n",
       "      <th></th>\n",
       "      <th>age</th>\n",
       "      <th>gender</th>\n",
       "      <th>x</th>\n",
       "      <th>y</th>\n",
       "      <th>dx</th>\n",
       "      <th>dy</th>\n",
       "      <th>img_path</th>\n",
       "    </tr>\n",
       "  </thead>\n",
       "  <tbody>\n",
       "    <tr>\n",
       "      <th>0</th>\n",
       "      <td>4</td>\n",
       "      <td>1</td>\n",
       "      <td>1102</td>\n",
       "      <td>296</td>\n",
       "      <td>357</td>\n",
       "      <td>357</td>\n",
       "      <td>faces/113445054@N07/coarse_tilt_aligned_face.1...</td>\n",
       "    </tr>\n",
       "    <tr>\n",
       "      <th>1</th>\n",
       "      <td>4</td>\n",
       "      <td>0</td>\n",
       "      <td>1713</td>\n",
       "      <td>580</td>\n",
       "      <td>325</td>\n",
       "      <td>325</td>\n",
       "      <td>faces/113445054@N07/coarse_tilt_aligned_face.1...</td>\n",
       "    </tr>\n",
       "    <tr>\n",
       "      <th>2</th>\n",
       "      <td>3</td>\n",
       "      <td>0</td>\n",
       "      <td>1437</td>\n",
       "      <td>664</td>\n",
       "      <td>306</td>\n",
       "      <td>306</td>\n",
       "      <td>faces/113445054@N07/coarse_tilt_aligned_face.1...</td>\n",
       "    </tr>\n",
       "    <tr>\n",
       "      <th>3</th>\n",
       "      <td>4</td>\n",
       "      <td>0</td>\n",
       "      <td>978</td>\n",
       "      <td>229</td>\n",
       "      <td>803</td>\n",
       "      <td>803</td>\n",
       "      <td>faces/113445054@N07/coarse_tilt_aligned_face.1...</td>\n",
       "    </tr>\n",
       "    <tr>\n",
       "      <th>4</th>\n",
       "      <td>4</td>\n",
       "      <td>1</td>\n",
       "      <td>1745</td>\n",
       "      <td>910</td>\n",
       "      <td>242</td>\n",
       "      <td>242</td>\n",
       "      <td>faces/113445054@N07/coarse_tilt_aligned_face.1...</td>\n",
       "    </tr>\n",
       "  </tbody>\n",
       "</table>\n",
       "</div>"
      ],
      "text/plain": [
       "   age  gender     x    y   dx   dy  \\\n",
       "0    4       1  1102  296  357  357   \n",
       "1    4       0  1713  580  325  325   \n",
       "2    3       0  1437  664  306  306   \n",
       "3    4       0   978  229  803  803   \n",
       "4    4       1  1745  910  242  242   \n",
       "\n",
       "                                            img_path  \n",
       "0  faces/113445054@N07/coarse_tilt_aligned_face.1...  \n",
       "1  faces/113445054@N07/coarse_tilt_aligned_face.1...  \n",
       "2  faces/113445054@N07/coarse_tilt_aligned_face.1...  \n",
       "3  faces/113445054@N07/coarse_tilt_aligned_face.1...  \n",
       "4  faces/113445054@N07/coarse_tilt_aligned_face.1...  "
      ]
     },
     "execution_count": 13,
     "metadata": {},
     "output_type": "execute_result"
    }
   ],
   "source": [
    "#change age and gender to labels\n",
    "unbiased_data['age'] = unbiased_data['age'].apply(lambda age: age_to_label_map[age])\n",
    "unbiased_data['gender'] = unbiased_data['gender'].apply(lambda g: gender_to_label_map[g])\n",
    "\n",
    "unbiased_data.head()"
   ]
  },
  {
   "cell_type": "markdown",
   "id": "6e463c41",
   "metadata": {},
   "source": [
    "#### Plot random image with its size, gender and age¶"
   ]
  },
  {
   "cell_type": "code",
   "execution_count": 14,
   "id": "b3be6bbd",
   "metadata": {},
   "outputs": [
    {
     "data": {
      "image/png": "[encoded data removed]",
      "text/plain": [
       "<Figure size 432x288 with 1 Axes>"
      ]
     },
     "metadata": {
      "needs_background": "light"
     },
     "output_type": "display_data"
    }
   ],
   "source": [
    "#to plot image\n",
    "def show_image(img_filename, age, gender):\n",
    "    img = Image.open(img_filename)\n",
    "    plt.imshow(img)\n",
    "    plt.title(f'size (w, h): {img.size}, age: {age}, gender: {gender}')\n",
    "    plt.show()\n",
    "    \n",
    "idx = np.random.randint(unbiased_data.shape[0])\n",
    "fname = unbiased_data['img_path'].iloc[idx]\n",
    "age = label_to_age_map[unbiased_data['age'][idx]]\n",
    "gender = label_to_gender_map[unbiased_data['gender'][idx]]\n",
    "show_image(fname, age, gender)"
   ]
  },
  {
   "cell_type": "markdown",
   "id": "2b25ac7a",
   "metadata": {},
   "source": [
    "# Model"
   ]
  },
  {
   "cell_type": "markdown",
   "id": "eae156c1",
   "metadata": {},
   "source": [
    "\n",
    "##### Gender Classification"
   ]
  },
  {
   "cell_type": "code",
   "execution_count": 15,
   "id": "ad96f0b8",
   "metadata": {},
   "outputs": [
    {
     "name": "stdout",
     "output_type": "stream",
     "text": [
      "Train data shape (12216, 1)\n",
      "Test data shape (5236, 1)\n"
     ]
    }
   ],
   "source": [
    "#splitting dataset\n",
    "X = unbiased_data[['img_path']]\n",
    "y = unbiased_data[['gender']]\n",
    "from sklearn.model_selection import train_test_split\n",
    "X_train, X_test, y_train, y_test = train_test_split(X, y, test_size=0.3, random_state=42)\n",
    "\n",
    "print('Train data shape {}'.format(X_train.shape))\n",
    "print('Test data shape {}'.format(X_test.shape))"
   ]
  },
  {
   "cell_type": "code",
   "execution_count": 18,
   "id": "e3781100",
   "metadata": {},
   "outputs": [
    {
     "name": "stdout",
     "output_type": "stream",
     "text": [
      "Train images shape (12216, 227, 227, 3)\n",
      "Test images shape (5236, 227, 227, 3)\n"
     ]
    }
   ],
   "source": [
    "train_images = []\n",
    "test_images = []\n",
    "\n",
    "for row in X_train.iterrows():\n",
    "    image = Image.open(row[1].img_path)\n",
    "    image = image.resize((227, 227))   # Resize the image\n",
    "    data = np.asarray(image)\n",
    "    train_images.append(data)\n",
    "\n",
    "for row in X_test.iterrows():\n",
    "    image = Image.open(row[1].img_path)\n",
    "    image = image.resize((227, 227))  # Resize the image\n",
    "    data = np.asarray(image)\n",
    "    test_images.append(data)\n",
    "\n",
    "train_images = np.asarray(train_images)\n",
    "test_images = np.asarray(test_images)\n",
    "\n",
    "print('Train images shape {}'.format(train_images.shape))\n",
    "print('Test images shape {}'.format(test_images.shape))"
   ]
  },
  {
   "cell_type": "code",
   "execution_count": 20,
   "id": "66eb11f0",
   "metadata": {
    "scrolled": false
   },
   "outputs": [],
   "source": [
    "model = Sequential()\n",
    "model.add(Conv2D(input_shape=(227, 227, 3), filters=96, kernel_size=(7, 7), strides=(2, 2), padding='valid', activation='relu'))\n",
    "model.add(MaxPooling2D(pool_size=(2,2),strides=(2,2)))\n",
    "model.add(LayerNormalization())\n",
    "model.add(Conv2D(filters=256, kernel_size=(5, 5), strides=1, padding='same', activation='relu'))\n",
    "model.add(MaxPooling2D(pool_size=(2,2),strides=(2,2)))\n",
    "model.add(LayerNormalization())\n",
    "model.add(Conv2D(filters=256, kernel_size=(3, 3), strides=1, padding='same', activation='relu'))\n",
    "model.add(MaxPooling2D(pool_size=(2,2),strides=(2,2)))\n",
    "model.add(LayerNormalization())\n",
    "\n",
    "model.add(Flatten())\n",
    "model.add(Dense(units=512, activation='relu'))\n",
    "model.add(Dropout(rate=0.25))\n",
    "model.add(Dense(units=512, activation='relu'))\n",
    "model.add(Dropout(rate=0.25))\n",
    "model.add(Dense(units=2, activation='softmax'))"
   ]
  },
  {
   "cell_type": "code",
   "execution_count": 21,
   "id": "b886d1b5",
   "metadata": {
    "scrolled": false
   },
   "outputs": [
    {
     "name": "stdout",
     "output_type": "stream",
     "text": [
      "Model: \"sequential_3\"\n",
      "_________________________________________________________________\n",
      "Layer (type)                 Output Shape              Param #   \n",
      "=================================================================\n",
      "conv2d_3 (Conv2D)            (None, 111, 111, 96)      14208     \n",
      "_________________________________________________________________\n",
      "max_pooling2d_3 (MaxPooling2 (None, 55, 55, 96)        0         \n",
      "_________________________________________________________________\n",
      "layer_normalization_3 (Layer (None, 55, 55, 96)        192       \n",
      "_________________________________________________________________\n",
      "conv2d_4 (Conv2D)            (None, 55, 55, 256)       614656    \n",
      "_________________________________________________________________\n",
      "max_pooling2d_4 (MaxPooling2 (None, 27, 27, 256)       0         \n",
      "_________________________________________________________________\n",
      "layer_normalization_4 (Layer (None, 27, 27, 256)       512       \n",
      "_________________________________________________________________\n",
      "conv2d_5 (Conv2D)            (None, 27, 27, 256)       590080    \n",
      "_________________________________________________________________\n",
      "max_pooling2d_5 (MaxPooling2 (None, 13, 13, 256)       0         \n",
      "_________________________________________________________________\n",
      "layer_normalization_5 (Layer (None, 13, 13, 256)       512       \n",
      "_________________________________________________________________\n",
      "flatten (Flatten)            (None, 43264)             0         \n",
      "_________________________________________________________________\n",
      "dense (Dense)                (None, 512)               22151680  \n",
      "_________________________________________________________________\n",
      "dropout (Dropout)            (None, 512)               0         \n",
      "_________________________________________________________________\n",
      "dense_1 (Dense)              (None, 512)               262656    \n",
      "_________________________________________________________________\n",
      "dropout_1 (Dropout)          (None, 512)               0         \n",
      "_________________________________________________________________\n",
      "dense_2 (Dense)              (None, 2)                 1026      \n",
      "=================================================================\n",
      "Total params: 23,635,522\n",
      "Trainable params: 23,635,522\n",
      "Non-trainable params: 0\n",
      "_________________________________________________________________\n"
     ]
    }
   ],
   "source": [
    "model.summary()"
   ]
  },
  {
   "cell_type": "code",
   "execution_count": 23,
   "id": "27024cda",
   "metadata": {
    "scrolled": false
   },
   "outputs": [
    {
     "name": "stderr",
     "output_type": "stream",
     "text": [
      "c:\\users\\ravi\\appdata\\local\\programs\\python\\python37\\lib\\site-packages\\tensorflow\\python\\keras\\backend.py:4930: UserWarning: \"`sparse_categorical_crossentropy` received `from_logits=True`, but the `output` argument was produced by a sigmoid or softmax activation and thus does not represent logits. Was this intended?\"\n",
      "  '\"`sparse_categorical_crossentropy` received `from_logits=True`, but '\n"
     ]
    },
    {
     "name": "stdout",
     "output_type": "stream",
     "text": [
      "382/382 [==============================] - 2064s 5s/step - loss: 0.6909 - accuracy: 0.5351 - val_loss: 0.6909 - val_accuracy: 0.5338\n"
     ]
    }
   ],
   "source": [
    "callback = tf.keras.callbacks.EarlyStopping(monitor='loss', patience=3) # Callback for earlystopping\n",
    "\n",
    "model.compile(optimizer='adam', loss=tf.keras.losses.SparseCategoricalCrossentropy(from_logits=True), metrics=['accuracy'])\n",
    "\n",
    "epochs=1\n",
    "history = model.fit(train_images, y_train, batch_size=32,  epochs=epochs, validation_data=(test_images, y_test), callbacks=[callback])"
   ]
  },
  {
   "cell_type": "code",
   "execution_count": 25,
   "id": "1efc1261",
   "metadata": {},
   "outputs": [],
   "source": [
    "#save history\n",
    "import pickle\n",
    "with open('trainHistoryDict', 'wb') as file_pi:\n",
    "        pickle.dump(history.history, file_pi)    "
   ]
  },
  {
   "cell_type": "code",
   "execution_count": 26,
   "id": "8e6509b0",
   "metadata": {},
   "outputs": [
    {
     "name": "stdout",
     "output_type": "stream",
     "text": [
      "164/164 - 232s - loss: 0.6909 - accuracy: 0.5338\n",
      "Testing accuracy 0.5338044166564941\n"
     ]
    }
   ],
   "source": [
    "test_loss, test_acc = model.evaluate(test_images, y_test, verbose=2)\n",
    "print('Testing accuracy',test_acc)"
   ]
  },
  {
   "cell_type": "code",
   "execution_count": 27,
   "id": "6c7e4b16",
   "metadata": {},
   "outputs": [
    {
     "name": "stdout",
     "output_type": "stream",
     "text": [
      "382/382 [==============================] - 584s 2s/step - loss: 0.6907 - accuracy: 0.5351\n",
      "Training accuracy [0.6907141804695129, 0.5351178646087646]\n"
     ]
    }
   ],
   "source": [
    "train_acc = model.evaluate(train_images, y_train)\n",
    "print('Training accuracy',train_acc)"
   ]
  },
  {
   "cell_type": "markdown",
   "id": "d6063bc0",
   "metadata": {},
   "source": [
    "# Predection gender (0:f, 1:m)"
   ]
  },
  {
   "cell_type": "code",
   "execution_count": 28,
   "id": "b93c4131",
   "metadata": {},
   "outputs": [
    {
     "data": {
      "text/html": [
       "<div>\n",
       "<style scoped>\n",
       "    .dataframe tbody tr th:only-of-type {\n",
       "        vertical-align: middle;\n",
       "    }\n",
       "\n",
       "    .dataframe tbody tr th {\n",
       "        vertical-align: top;\n",
       "    }\n",
       "\n",
       "    .dataframe thead th {\n",
       "        text-align: right;\n",
       "    }\n",
       "</style>\n",
       "<table border=\"1\" class=\"dataframe\">\n",
       "  <thead>\n",
       "    <tr style=\"text-align: right;\">\n",
       "      <th></th>\n",
       "      <th>gender</th>\n",
       "    </tr>\n",
       "  </thead>\n",
       "  <tbody>\n",
       "    <tr>\n",
       "      <th>16807</th>\n",
       "      <td>1</td>\n",
       "    </tr>\n",
       "    <tr>\n",
       "      <th>1395</th>\n",
       "      <td>1</td>\n",
       "    </tr>\n",
       "    <tr>\n",
       "      <th>2362</th>\n",
       "      <td>0</td>\n",
       "    </tr>\n",
       "    <tr>\n",
       "      <th>19</th>\n",
       "      <td>1</td>\n",
       "    </tr>\n",
       "  </tbody>\n",
       "</table>\n",
       "</div>"
      ],
      "text/plain": [
       "       gender\n",
       "16807       1\n",
       "1395        1\n",
       "2362        0\n",
       "19          1"
      ]
     },
     "execution_count": 28,
     "metadata": {},
     "output_type": "execute_result"
    }
   ],
   "source": [
    "#predection\n",
    "model.predict(test_images[:4])\n",
    "#test_images[:4]\n",
    "y_test[:4]"
   ]
  },
  {
   "cell_type": "code",
   "execution_count": 29,
   "id": "61c4ab20",
   "metadata": {},
   "outputs": [],
   "source": [
    "from sklearn.metrics import confusion_matrix\n",
    "pred = model.predict(test_images)\n",
    "pred = np.argmax(pred,axis = 1) \n",
    "y_true = np.argmax(y_test,axis = 1)"
   ]
  },
  {
   "cell_type": "code",
   "execution_count": 30,
   "id": "ef84ff17",
   "metadata": {},
   "outputs": [
    {
     "name": "stdout",
     "output_type": "stream",
     "text": [
      "              precision    recall  f1-score   support\n",
      "\n",
      "           0       1.00      1.00      1.00      5236\n",
      "\n",
      "    accuracy                           1.00      5236\n",
      "   macro avg       1.00      1.00      1.00      5236\n",
      "weighted avg       1.00      1.00      1.00      5236\n",
      "\n"
     ]
    }
   ],
   "source": [
    "from sklearn.metrics import classification_report\n",
    "CM=classification_report(y_true, pred)\n",
    "print(CM)"
   ]
  },
  {
   "cell_type": "code",
   "execution_count": 31,
   "id": "6b1f9c4f",
   "metadata": {},
   "outputs": [
    {
     "name": "stdout",
     "output_type": "stream",
     "text": [
      "R2 score for gender:  1.0\n"
     ]
    }
   ],
   "source": [
    "from sklearn.metrics import r2_score\n",
    "print('R2 score for gender: ', r2_score(y_true, pred))"
   ]
  },
  {
   "cell_type": "code",
   "execution_count": 36,
   "id": "a05137a6",
   "metadata": {},
   "outputs": [
    {
     "name": "stdout",
     "output_type": "stream",
     "text": [
      "('You must install pydot (`pip install pydot`) and install graphviz (see instructions at https://graphviz.gitlab.io/download/) ', 'for plot_model/model_to_dot to work.')\n"
     ]
    }
   ],
   "source": [
    "#visualaze cnn model\n",
    "from keras.utils.vis_utils import plot_model\n",
    "\n",
    "plot_model(model, to_file='model_plot.png', show_shapes=True, show_layer_names=True)"
   ]
  },
  {
   "cell_type": "markdown",
   "id": "fb2746ba",
   "metadata": {},
   "source": [
    "# Age classification"
   ]
  },
  {
   "cell_type": "code",
   "execution_count": 37,
   "id": "a36c5c39",
   "metadata": {},
   "outputs": [
    {
     "name": "stdout",
     "output_type": "stream",
     "text": [
      "Train data shape (12216, 1)\n",
      "Test data shape (5236, 1)\n"
     ]
    }
   ],
   "source": [
    "#splitting dataset\n",
    "X = unbiased_data[['img_path']]\n",
    "y = unbiased_data[['age']]\n",
    "from sklearn.model_selection import train_test_split\n",
    "X_train, X_test, y_train, y_test = train_test_split(X, y, test_size=0.3, random_state=42)\n",
    "\n",
    "print('Train data shape {}'.format(X_train.shape))\n",
    "print('Test data shape {}'.format(X_test.shape))"
   ]
  },
  {
   "cell_type": "code",
   "execution_count": 38,
   "id": "a584e8dd",
   "metadata": {},
   "outputs": [
    {
     "name": "stdout",
     "output_type": "stream",
     "text": [
      "Train images shape (12216, 227, 227, 3)\n",
      "Test images shape (5236, 227, 227, 3)\n"
     ]
    }
   ],
   "source": [
    "train_images = []\n",
    "test_images = []\n",
    "\n",
    "for row in X_train.iterrows():\n",
    "    image = Image.open(row[1].img_path)\n",
    "    image = image.resize((227, 227))   # Resize the image\n",
    "    data = np.asarray(image)\n",
    "    train_images.append(data)\n",
    "\n",
    "for row in X_test.iterrows():\n",
    "    image = Image.open(row[1].img_path)\n",
    "    image = image.resize((227, 227))  # Resize the image\n",
    "    data = np.asarray(image)\n",
    "    test_images.append(data)\n",
    "\n",
    "train_images = np.asarray(train_images)\n",
    "test_images = np.asarray(test_images)\n",
    "\n",
    "print('Train images shape {}'.format(train_images.shape))\n",
    "print('Test images shape {}'.format(test_images.shape))"
   ]
  },
  {
   "cell_type": "code",
   "execution_count": 39,
   "id": "7653a7c1",
   "metadata": {},
   "outputs": [],
   "source": [
    "model = Sequential()\n",
    "model.add(Conv2D(input_shape=(227, 227, 3), filters=96, kernel_size=(7, 7), strides=4, padding='valid', activation='relu'))\n",
    "model.add(MaxPooling2D(pool_size=(2,2),strides=(2,2)))\n",
    "model.add(LayerNormalization())\n",
    "model.add(Conv2D(filters=256, kernel_size=(5, 5), strides=1, padding='same', activation='relu'))\n",
    "model.add(MaxPooling2D(pool_size=(2,2),strides=(2,2)))\n",
    "model.add(LayerNormalization())\n",
    "model.add(Conv2D(filters=256, kernel_size=(3, 3), strides=1, padding='same', activation='relu'))\n",
    "model.add(MaxPooling2D(pool_size=(2,2),strides=(2,2)))\n",
    "model.add(LayerNormalization())\n",
    "\n",
    "model.add(Flatten())\n",
    "model.add(Dense(units=512, activation='relu'))\n",
    "model.add(Dropout(rate=0.25))\n",
    "model.add(Dense(units=512, activation='relu'))\n",
    "model.add(Dropout(rate=0.25))\n",
    "model.add(Dense(units=8, activation='softmax'))"
   ]
  },
  {
   "cell_type": "code",
   "execution_count": 41,
   "id": "cff60450",
   "metadata": {},
   "outputs": [
    {
     "name": "stderr",
     "output_type": "stream",
     "text": [
      "c:\\users\\ravi\\appdata\\local\\programs\\python\\python37\\lib\\site-packages\\tensorflow\\python\\keras\\backend.py:4930: UserWarning: \"`sparse_categorical_crossentropy` received `from_logits=True`, but the `output` argument was produced by a sigmoid or softmax activation and thus does not represent logits. Was this intended?\"\n",
      "  '\"`sparse_categorical_crossentropy` received `from_logits=True`, but '\n"
     ]
    },
    {
     "name": "stdout",
     "output_type": "stream",
     "text": [
      "382/382 [==============================] - ETA: 0s - loss: 2.1568 - accuracy: 0.2831"
     ]
    },
    {
     "name": "stderr",
     "output_type": "stream",
     "text": [
      "c:\\users\\ravi\\appdata\\local\\programs\\python\\python37\\lib\\site-packages\\tensorflow\\python\\keras\\backend.py:4930: UserWarning: \"`sparse_categorical_crossentropy` received `from_logits=True`, but the `output` argument was produced by a sigmoid or softmax activation and thus does not represent logits. Was this intended?\"\n",
      "  '\"`sparse_categorical_crossentropy` received `from_logits=True`, but '\n"
     ]
    },
    {
     "name": "stdout",
     "output_type": "stream",
     "text": [
      "\b\b\b\b\b\b\b\b\b\b\b\b\b\b\b\b\b\b\b\b\b\b\b\b\b\b\b\b\b\b\b\b\b\b\b\b\b\b\b\b\b\b\b\b\b\b\b\b\b\b\b\b\b\b\b\b\b\b\b\b\b\b\b\b\b\b\b\b\b\b\b\b\b\b\b\b\b\b\b\b\b\b\b\b\r",
      "382/382 [==============================] - 674s 2s/step - loss: 2.1568 - accuracy: 0.2831 - val_loss: 1.9153 - val_accuracy: 0.3065\n"
     ]
    }
   ],
   "source": [
    "callback = tf.keras.callbacks.EarlyStopping(monitor='loss', patience=3) # Callback for earlystopping\n",
    "\n",
    "model.compile(optimizer='adam', loss=tf.keras.losses.SparseCategoricalCrossentropy(from_logits=True), metrics=['accuracy'])\n",
    "\n",
    "epochs=1\n",
    "history = model.fit(train_images, y_train, batch_size=32, epochs=epochs, validation_data=(test_images, y_test), callbacks=[callback])"
   ]
  },
  {
   "cell_type": "code",
   "execution_count": 42,
   "id": "a889e42c",
   "metadata": {},
   "outputs": [],
   "source": [
    "#save history\n",
    "with open('trainHistoryDict', 'wb') as file_pi:\n",
    "        pickle.dump(history.history, file_pi)"
   ]
  },
  {
   "cell_type": "code",
   "execution_count": 43,
   "id": "761e97c1",
   "metadata": {},
   "outputs": [
    {
     "name": "stdout",
     "output_type": "stream",
     "text": [
      "164/164 - 64s - loss: 1.9153 - accuracy: 0.3065\n",
      "Testing accuracy 0.306531697511673\n"
     ]
    }
   ],
   "source": [
    "test_loss, test_acc = model.evaluate(test_images, y_test, verbose=2)\n",
    "print('Testing accuracy',test_acc)"
   ]
  },
  {
   "cell_type": "code",
   "execution_count": 44,
   "id": "d5a6bd7d",
   "metadata": {},
   "outputs": [
    {
     "name": "stdout",
     "output_type": "stream",
     "text": [
      "382/382 [==============================] - 166s 435ms/step - loss: 1.9241 - accuracy: 0.2976\n",
      "Training accuracy [1.9240671396255493, 0.29756057262420654]\n"
     ]
    }
   ],
   "source": [
    "train_acc =model.evaluate(train_images, y_train)\n",
    "print('Training accuracy',train_acc)"
   ]
  },
  {
   "cell_type": "markdown",
   "id": "4c8a0fea",
   "metadata": {},
   "source": [
    "###  Predection age ('0-2':0, '4-6':1, '8-13':2, '15-20':3, '25-32':4, '38-43':5, '48-53':6, '60+':7)"
   ]
  },
  {
   "cell_type": "code",
   "execution_count": 45,
   "id": "bd294548",
   "metadata": {},
   "outputs": [
    {
     "data": {
      "text/html": [
       "<div>\n",
       "<style scoped>\n",
       "    .dataframe tbody tr th:only-of-type {\n",
       "        vertical-align: middle;\n",
       "    }\n",
       "\n",
       "    .dataframe tbody tr th {\n",
       "        vertical-align: top;\n",
       "    }\n",
       "\n",
       "    .dataframe thead th {\n",
       "        text-align: right;\n",
       "    }\n",
       "</style>\n",
       "<table border=\"1\" class=\"dataframe\">\n",
       "  <thead>\n",
       "    <tr style=\"text-align: right;\">\n",
       "      <th></th>\n",
       "      <th>age</th>\n",
       "    </tr>\n",
       "  </thead>\n",
       "  <tbody>\n",
       "    <tr>\n",
       "      <th>16807</th>\n",
       "      <td>1</td>\n",
       "    </tr>\n",
       "    <tr>\n",
       "      <th>1395</th>\n",
       "      <td>3</td>\n",
       "    </tr>\n",
       "    <tr>\n",
       "      <th>2362</th>\n",
       "      <td>3</td>\n",
       "    </tr>\n",
       "    <tr>\n",
       "      <th>19</th>\n",
       "      <td>4</td>\n",
       "    </tr>\n",
       "  </tbody>\n",
       "</table>\n",
       "</div>"
      ],
      "text/plain": [
       "       age\n",
       "16807    1\n",
       "1395     3\n",
       "2362     3\n",
       "19       4"
      ]
     },
     "execution_count": 45,
     "metadata": {},
     "output_type": "execute_result"
    }
   ],
   "source": [
    "#predection\n",
    "model.predict(test_images[:4])\n",
    "#test_images[:4]\n",
    "y_test[:4]"
   ]
  },
  {
   "cell_type": "code",
   "execution_count": 46,
   "id": "27a256c6",
   "metadata": {},
   "outputs": [],
   "source": [
    "from sklearn.metrics import confusion_matrix\n",
    "pred2 = model.predict(test_images)\n",
    "pred2 = np.argmax(pred2,axis = 1) \n",
    "y_true2 = np.argmax(y_test,axis = 1)"
   ]
  },
  {
   "cell_type": "code",
   "execution_count": 47,
   "id": "9a8ccaf4",
   "metadata": {},
   "outputs": [
    {
     "name": "stdout",
     "output_type": "stream",
     "text": [
      "              precision    recall  f1-score   support\n",
      "\n",
      "           0       0.00      0.00      0.00    5236.0\n",
      "           4       0.00      0.00      0.00       0.0\n",
      "\n",
      "    accuracy                           0.00    5236.0\n",
      "   macro avg       0.00      0.00      0.00    5236.0\n",
      "weighted avg       0.00      0.00      0.00    5236.0\n",
      "\n"
     ]
    },
    {
     "name": "stderr",
     "output_type": "stream",
     "text": [
      "c:\\users\\ravi\\appdata\\local\\programs\\python\\python37\\lib\\site-packages\\sklearn\\metrics\\_classification.py:1248: UndefinedMetricWarning: Precision and F-score are ill-defined and being set to 0.0 in labels with no predicted samples. Use `zero_division` parameter to control this behavior.\n",
      "  _warn_prf(average, modifier, msg_start, len(result))\n",
      "c:\\users\\ravi\\appdata\\local\\programs\\python\\python37\\lib\\site-packages\\sklearn\\metrics\\_classification.py:1248: UndefinedMetricWarning: Recall and F-score are ill-defined and being set to 0.0 in labels with no true samples. Use `zero_division` parameter to control this behavior.\n",
      "  _warn_prf(average, modifier, msg_start, len(result))\n",
      "c:\\users\\ravi\\appdata\\local\\programs\\python\\python37\\lib\\site-packages\\sklearn\\metrics\\_classification.py:1248: UndefinedMetricWarning: Precision and F-score are ill-defined and being set to 0.0 in labels with no predicted samples. Use `zero_division` parameter to control this behavior.\n",
      "  _warn_prf(average, modifier, msg_start, len(result))\n",
      "c:\\users\\ravi\\appdata\\local\\programs\\python\\python37\\lib\\site-packages\\sklearn\\metrics\\_classification.py:1248: UndefinedMetricWarning: Recall and F-score are ill-defined and being set to 0.0 in labels with no true samples. Use `zero_division` parameter to control this behavior.\n",
      "  _warn_prf(average, modifier, msg_start, len(result))\n",
      "c:\\users\\ravi\\appdata\\local\\programs\\python\\python37\\lib\\site-packages\\sklearn\\metrics\\_classification.py:1248: UndefinedMetricWarning: Precision and F-score are ill-defined and being set to 0.0 in labels with no predicted samples. Use `zero_division` parameter to control this behavior.\n",
      "  _warn_prf(average, modifier, msg_start, len(result))\n",
      "c:\\users\\ravi\\appdata\\local\\programs\\python\\python37\\lib\\site-packages\\sklearn\\metrics\\_classification.py:1248: UndefinedMetricWarning: Recall and F-score are ill-defined and being set to 0.0 in labels with no true samples. Use `zero_division` parameter to control this behavior.\n",
      "  _warn_prf(average, modifier, msg_start, len(result))\n"
     ]
    }
   ],
   "source": [
    "from sklearn.metrics import classification_report\n",
    "CM2=classification_report(y_true2, pred2)\n",
    "print(CM2)"
   ]
  },
  {
   "cell_type": "code",
   "execution_count": 48,
   "id": "18dff756",
   "metadata": {},
   "outputs": [
    {
     "name": "stdout",
     "output_type": "stream",
     "text": [
      "R2 score for age:  0.0\n"
     ]
    }
   ],
   "source": [
    "from sklearn.metrics import r2_score\n",
    "print('R2 score for age: ', r2_score(y_true2, pred2))"
   ]
  },
  {
   "cell_type": "code",
   "execution_count": 49,
   "id": "f7ac6faa",
   "metadata": {},
   "outputs": [
    {
     "name": "stderr",
     "output_type": "stream",
     "text": [
      "c:\\users\\ravi\\appdata\\local\\programs\\python\\python37\\lib\\site-packages\\tensorflow\\python\\keras\\backend.py:4930: UserWarning: \"`sparse_categorical_crossentropy` received `from_logits=True`, but the `output` argument was produced by a sigmoid or softmax activation and thus does not represent logits. Was this intended?\"\n",
      "  '\"`sparse_categorical_crossentropy` received `from_logits=True`, but '\n"
     ]
    },
    {
     "name": "stdout",
     "output_type": "stream",
     "text": [
      "382/382 [==============================] - ETA: 0s - loss: 1.9258 - accuracy: 0.2976"
     ]
    },
    {
     "name": "stderr",
     "output_type": "stream",
     "text": [
      "c:\\users\\ravi\\appdata\\local\\programs\\python\\python37\\lib\\site-packages\\tensorflow\\python\\keras\\backend.py:4930: UserWarning: \"`sparse_categorical_crossentropy` received `from_logits=True`, but the `output` argument was produced by a sigmoid or softmax activation and thus does not represent logits. Was this intended?\"\n",
      "  '\"`sparse_categorical_crossentropy` received `from_logits=True`, but '\n"
     ]
    },
    {
     "name": "stdout",
     "output_type": "stream",
     "text": [
      "\b\b\b\b\b\b\b\b\b\b\b\b\b\b\b\b\b\b\b\b\b\b\b\b\b\b\b\b\b\b\b\b\b\b\b\b\b\b\b\b\b\b\b\b\b\b\b\b\b\b\b\b\b\b\b\b\b\b\b\b\b\b\b\b\b\b\b\b\b\b\b\b\b\b\b\b\b\b\b\b\b\b\b\b\r",
      "382/382 [==============================] - 592s 2s/step - loss: 1.9258 - accuracy: 0.2976 - val_loss: 1.9175 - val_accuracy: 0.3065\n"
     ]
    }
   ],
   "source": [
    "callback = tf.keras.callbacks.TensorBoard(\n",
    "    log_dir='logs', histogram_freq=0, write_graph=True,\n",
    "    write_images=False, update_freq='epoch', profile_batch=2,\n",
    "    embeddings_freq=0, embeddings_metadata=None ) # Callback for TensorBoard\n",
    "\n",
    "model.compile(optimizer='adam', loss=tf.keras.losses.SparseCategoricalCrossentropy(from_logits=True), metrics=['accuracy'])\n",
    "\n",
    "history = model.fit(train_images, y_train, batch_size=32,  epochs=epochs, validation_data=(test_images, y_test), callbacks=[callback])"
   ]
  },
  {
   "cell_type": "code",
   "execution_count": null,
   "id": "78d8fcac",
   "metadata": {},
   "outputs": [],
   "source": []
  }
 ],
 "metadata": {
  "kernelspec": {
   "display_name": "Python 3",
   "language": "python",
   "name": "python3"
  },
  "language_info": {
   "codemirror_mode": {
    "name": "ipython",
    "version": 3
   },
   "file_extension": ".py",
   "mimetype": "text/x-python",
   "name": "python",
   "nbconvert_exporter": "python",
   "pygments_lexer": "ipython3",
   "version": "3.7.4"
  }
 },
 "nbformat": 4,
 "nbformat_minor": 5
}
